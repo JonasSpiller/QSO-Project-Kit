{
 "cells": [
  {
   "cell_type": "markdown",
   "id": "014e2c34-3727-4c30-8e14-36a4569526c4",
   "metadata": {},
   "source": [
    "# Taking a Quick Look at DR1\n",
    "The below code allows you to access the quasar spectra in iron. There is a more complete tutorial on the DESI Github \\\n",
    "The explanation there focuses on the early data release (EDR) but the methodology should still be the samee just with \\\n",
    "different file paths.\n",
    "\n",
    "Be Sure to run this after you have access to the nersc file system.\n",
    "\n",
    "`https://github.com/desihub/tutorials/blob/main/getting_started/EDR_AnalyzeZcat.ipynb`"
   ]
  },
  {
   "cell_type": "code",
   "execution_count": 1,
   "id": "a5a92323-00c3-4b0c-acef-ec6870aa64a4",
   "metadata": {
    "tags": []
   },
   "outputs": [],
   "source": [
    "from desitarget.targetmask import desi_mask, bgs_mask, scnd_mask\n",
    "import os\n",
    "import desispec.io\n",
    "import numpy as np\n",
    "import matplotlib.pyplot as plt\n",
    "from astropy.table import Table"
   ]
  },
  {
   "cell_type": "code",
   "execution_count": 2,
   "id": "75dd5ba3-7772-4b1a-9f47-933547585632",
   "metadata": {},
   "outputs": [
    {
     "name": "stdout",
     "output_type": "stream",
     "text": [
      "/global/cfs/cdirs/desi/public/dr1/spectro/redux/iron\n"
     ]
    }
   ],
   "source": [
    "specprod_dir = '/global/cfs/cdirs/desi/public/dr1/spectro/redux/iron' #Directory to DESI DR1 'Iron' is the internal name. Fuji is internal for EDR\n",
    "print(specprod_dir)"
   ]
  },
  {
   "cell_type": "code",
   "execution_count": 3,
   "id": "451e41af-47c6-4c56-8c21-06e0ea4fc5bb",
   "metadata": {
    "tags": []
   },
   "outputs": [
    {
     "name": "stdout",
     "output_type": "stream",
     "text": [
      "/global/cfs/cdirs/desi/public/dr1/spectro/redux/iron/zcatalog/v1/zall-pix-iron.fits\n"
     ]
    }
   ],
   "source": [
    "!ls '/global/cfs/cdirs/desi/public/dr1/spectro/redux/iron/zcatalog/v1/zall-pix-iron.fits'"
   ]
  },
  {
   "cell_type": "code",
   "execution_count": 4,
   "id": "72a81788-0f08-412e-b621-7c873c69bb62",
   "metadata": {
    "tags": []
   },
   "outputs": [
    {
     "name": "stdout",
     "output_type": "stream",
     "text": [
      "logs\t\t\t\t  zpix-sv3-bright.fits\n",
      "redux_kibo_zcatalog_v1.sha256sum  zpix-sv3-dark.fits\n",
      "zall-pix-kibo.fits\t\t  ztile-cmx-other-cumulative.fits\n",
      "zall-tilecumulative-kibo.fits\t  ztile-main-backup-cumulative.fits\n",
      "zpix-cmx-other.fits\t\t  ztile-main-bright-cumulative.fits\n",
      "zpix-main-backup.fits\t\t  ztile-main-dark-cumulative.fits\n",
      "zpix-main-bright.fits\t\t  ztile-special-backup-cumulative.fits\n",
      "zpix-main-dark.fits\t\t  ztile-special-bright-cumulative.fits\n",
      "zpix-special-backup.fits\t  ztile-special-dark-cumulative.fits\n",
      "zpix-special-bright.fits\t  ztile-sv1-backup-cumulative.fits\n",
      "zpix-special-dark.fits\t\t  ztile-sv1-bright-cumulative.fits\n",
      "zpix-sv1-backup.fits\t\t  ztile-sv1-dark-cumulative.fits\n",
      "zpix-sv1-bright.fits\t\t  ztile-sv1-other-cumulative.fits\n",
      "zpix-sv1-dark.fits\t\t  ztile-sv2-backup-cumulative.fits\n",
      "zpix-sv1-other.fits\t\t  ztile-sv2-bright-cumulative.fits\n",
      "zpix-sv2-backup.fits\t\t  ztile-sv2-dark-cumulative.fits\n",
      "zpix-sv2-bright.fits\t\t  ztile-sv3-backup-cumulative.fits\n",
      "zpix-sv2-dark.fits\t\t  ztile-sv3-bright-cumulative.fits\n",
      "zpix-sv3-backup.fits\t\t  ztile-sv3-dark-cumulative.fits\n"
     ]
    }
   ],
   "source": [
    "!ls '/global/cfs/cdirs/desi/spectro/redux/kibo/zcatalog/v1'"
   ]
  },
  {
   "cell_type": "code",
   "execution_count": 5,
   "id": "92e1858f-26bb-414d-becc-4ee856bea2a2",
   "metadata": {
    "tags": []
   },
   "outputs": [],
   "source": [
    "# This can take about 2 mins to run \n",
    "zpix_cat = Table.read('/global/cfs/cdirs/desi/public/dr1/spectro/redux/iron/zcatalog/v1/zall-pix-iron.fits', hdu=\"ZCATALOG\")"
   ]
  },
  {
   "cell_type": "code",
   "execution_count": 6,
   "id": "14171838-77a8-4e85-ae5c-6ca8805ee4f2",
   "metadata": {
    "tags": []
   },
   "outputs": [],
   "source": [
    "QSO_tgtmask = desi_mask['QSO']"
   ]
  },
  {
   "cell_type": "code",
   "execution_count": 7,
   "id": "5541615d-1643-4f20-93c5-357b6b2666de",
   "metadata": {
    "tags": []
   },
   "outputs": [],
   "source": [
    "desi_target = zpix_cat[\"DESI_TARGET\"]\n",
    "is_qso = (desi_target & QSO_tgtmask != 0) | (zpix_cat[\"SV1_DESI_TARGET\"] & QSO_tgtmask != 0) | \\\n",
    "         (zpix_cat[\"SV2_DESI_TARGET\"] & QSO_tgtmask != 0) | (zpix_cat[\"SV3_DESI_TARGET\"] & QSO_tgtmask != 0)"
   ]
  },
  {
   "cell_type": "code",
   "execution_count": 14,
   "id": "46f19719-5e49-4f97-af34-18fcfbb768bf",
   "metadata": {
    "tags": []
   },
   "outputs": [
    {
     "name": "stdout",
     "output_type": "stream",
     "text": [
      "2474666\n"
     ]
    },
    {
     "ename": "TypeError",
     "evalue": "'int' object is not subscriptable",
     "output_type": "error",
     "traceback": [
      "\u001b[0;31m---------------------------------------------------------------------------\u001b[0m",
      "\u001b[0;31mTypeError\u001b[0m                                 Traceback (most recent call last)",
      "Cell \u001b[0;32mIn[14], line 3\u001b[0m\n\u001b[1;32m      1\u001b[0m n_qso  \u001b[38;5;241m=\u001b[39m np\u001b[38;5;241m.\u001b[39mcount_nonzero(is_qso)\n\u001b[1;32m      2\u001b[0m \u001b[38;5;28mprint\u001b[39m(n_qso) \u001b[38;5;66;03m#prints the number of qsos in the sample\u001b[39;00m\n\u001b[0;32m----> 3\u001b[0m \u001b[43mn_qso\u001b[49m\u001b[43m[\u001b[49m\u001b[43m:\u001b[49m\u001b[38;5;241;43m100\u001b[39;49m\u001b[43m]\u001b[49m\n",
      "\u001b[0;31mTypeError\u001b[0m: 'int' object is not subscriptable"
     ]
    }
   ],
   "source": [
    "n_qso  = np.count_nonzero(is_qso)\n",
    "print(n_qso) #prints the number of qsos in the sample"
   ]
  },
  {
   "cell_type": "markdown",
   "id": "c0c03481-c1cd-447d-9f29-017f2adbc1a5",
   "metadata": {},
   "source": [
    "______________"
   ]
  },
  {
   "cell_type": "markdown",
   "id": "3b37a8ce-8740-4be0-b4ad-72cc0f6ca1c2",
   "metadata": {},
   "source": [
    "We selected the QSO off of `Targeting` Meaning that there are some that are targeted as\n",
    "QSO but spectroscopically they may be galaxies so when running the code you should also \n",
    "add something to indicate that their spectral type is a QSO as well."
   ]
  },
  {
   "cell_type": "code",
   "execution_count": 17,
   "id": "a1e7fb2c-a27d-4731-be34-dc3d9347c914",
   "metadata": {
    "tags": []
   },
   "outputs": [
    {
     "data": {
      "text/plain": [
       "1511359"
      ]
     },
     "execution_count": 17,
     "metadata": {},
     "output_type": "execute_result"
    }
   ],
   "source": [
    "selected_data = zpix_cat[is_qso & (zpix_cat['SPECTYPE'] == 'QSO')]\n",
    "len(selected_data)"
   ]
  },
  {
   "cell_type": "code",
   "execution_count": 18,
   "id": "f8e9d634-2b29-4761-aa91-e966c354f376",
   "metadata": {},
   "outputs": [
    {
     "data": {
      "text/plain": [
       "1511359"
      ]
     },
     "execution_count": 18,
     "metadata": {},
     "output_type": "execute_result"
    }
   ],
   "source": [
    "np.count_nonzero(is_qso & (zpix_cat['SPECTYPE'] == 'QSO'))"
   ]
  },
  {
   "cell_type": "markdown",
   "id": "71e12773-7735-478a-8fe9-74c246587c2e",
   "metadata": {},
   "source": [
    "______________"
   ]
  },
  {
   "cell_type": "code",
   "execution_count": 22,
   "id": "8e87aedc-eb43-4680-86cf-517dd5862d71",
   "metadata": {
    "tags": []
   },
   "outputs": [],
   "source": [
    "def get_spec_data(tid, survey=None, program=None):\n",
    "    #-- the index of the specific target can be uniquely determined with the combination of TARGETID, SURVEY, and PROGRAM\n",
    "    idx = np.where( (selected_data[\"TARGETID\"]==tid) & (selected_data[\"SURVEY\"]==survey) & (selected_data[\"PROGRAM\"]==program) )[0][0]\n",
    "\n",
    "    #-- healpix values are integers but are converted here into a string for easier access to the file path\n",
    "    hpx = selected_data[\"HEALPIX\"].astype(str)\n",
    "\n",
    "    if \"sv\" in survey:\n",
    "        specprod = \"iron\"\n",
    "\n",
    "    specprod_dir = f\"/global/cfs/cdirs/desi/spectro/redux/iron\"\n",
    "    target_dir   = f\"{specprod_dir}/healpix/{survey}/{program}/{hpx[idx][:-2]}/{hpx[idx]}\"\n",
    "    coadd_fname  = f\"coadd-{survey}-{program}-{hpx[idx]}.fits\"\n",
    "\n",
    "    #-- read in the spectra with desispec\n",
    "    coadd_obj  = desispec.io.read_spectra(f\"{target_dir}/{coadd_fname}\")\n",
    "    coadd_tgts = coadd_obj.target_ids().data\n",
    "\n",
    "    #-- select the spectrum of  targetid\n",
    "    row = ( coadd_tgts==selected_data[\"TARGETID\"][idx] )\n",
    "    coadd_spec = coadd_obj[row]\n",
    "\n",
    "    return coadd_spec"
   ]
  },
  {
   "cell_type": "code",
   "execution_count": 23,
   "id": "10fd8c11-b615-4a89-a46a-9f88a24d4236",
   "metadata": {
    "tags": []
   },
   "outputs": [
    {
     "ename": "FileNotFoundError",
     "evalue": "Neither /global/cfs/cdirs/desi/spectro/redux/iron/healpix/main/bright//10/coadd-main-bright-10.fits nor /global/cfs/cdirs/desi/spectro/redux/iron/healpix/main/bright//10/coadd-main-bright-10.fits.gz",
     "output_type": "error",
     "traceback": [
      "\u001b[0;31m---------------------------------------------------------------------------\u001b[0m",
      "\u001b[0;31mFileNotFoundError\u001b[0m                         Traceback (most recent call last)",
      "Cell \u001b[0;32mIn[23], line 1\u001b[0m\n\u001b[0;32m----> 1\u001b[0m spec_dark \u001b[38;5;241m=\u001b[39m \u001b[43mget_spec_data\u001b[49m\u001b[43m(\u001b[49m\u001b[43mselected_data\u001b[49m\u001b[43m[\u001b[49m\u001b[38;5;124;43m\"\u001b[39;49m\u001b[38;5;124;43mTARGETID\u001b[39;49m\u001b[38;5;124;43m\"\u001b[39;49m\u001b[43m]\u001b[49m\u001b[43m[\u001b[49m\u001b[38;5;241;43m10\u001b[39;49m\u001b[43m]\u001b[49m\u001b[43m,\u001b[49m\u001b[43m \u001b[49m\u001b[38;5;28;43mstr\u001b[39;49m\u001b[43m(\u001b[49m\u001b[43mselected_data\u001b[49m\u001b[43m[\u001b[49m\u001b[38;5;124;43m\"\u001b[39;49m\u001b[38;5;124;43mSURVEY\u001b[39;49m\u001b[38;5;124;43m\"\u001b[39;49m\u001b[43m]\u001b[49m\u001b[43m[\u001b[49m\u001b[38;5;241;43m10\u001b[39;49m\u001b[43m]\u001b[49m\u001b[43m)\u001b[49m\u001b[43m,\u001b[49m\u001b[43m \u001b[49m\u001b[38;5;28;43mstr\u001b[39;49m\u001b[43m(\u001b[49m\u001b[43mselected_data\u001b[49m\u001b[43m[\u001b[49m\u001b[38;5;124;43m\"\u001b[39;49m\u001b[38;5;124;43mPROGRAM\u001b[39;49m\u001b[38;5;124;43m\"\u001b[39;49m\u001b[43m]\u001b[49m\u001b[43m[\u001b[49m\u001b[38;5;241;43m10\u001b[39;49m\u001b[43m]\u001b[49m\u001b[43m)\u001b[49m\u001b[43m)\u001b[49m\n",
      "Cell \u001b[0;32mIn[22], line 16\u001b[0m, in \u001b[0;36mget_spec_data\u001b[0;34m(tid, survey, program)\u001b[0m\n\u001b[1;32m     13\u001b[0m coadd_fname  \u001b[38;5;241m=\u001b[39m \u001b[38;5;124mf\u001b[39m\u001b[38;5;124m\"\u001b[39m\u001b[38;5;124mcoadd-\u001b[39m\u001b[38;5;132;01m{\u001b[39;00msurvey\u001b[38;5;132;01m}\u001b[39;00m\u001b[38;5;124m-\u001b[39m\u001b[38;5;132;01m{\u001b[39;00mprogram\u001b[38;5;132;01m}\u001b[39;00m\u001b[38;5;124m-\u001b[39m\u001b[38;5;132;01m{\u001b[39;00mhpx[idx]\u001b[38;5;132;01m}\u001b[39;00m\u001b[38;5;124m.fits\u001b[39m\u001b[38;5;124m\"\u001b[39m\n\u001b[1;32m     15\u001b[0m \u001b[38;5;66;03m#-- read in the spectra with desispec\u001b[39;00m\n\u001b[0;32m---> 16\u001b[0m coadd_obj  \u001b[38;5;241m=\u001b[39m \u001b[43mdesispec\u001b[49m\u001b[38;5;241;43m.\u001b[39;49m\u001b[43mio\u001b[49m\u001b[38;5;241;43m.\u001b[39;49m\u001b[43mread_spectra\u001b[49m\u001b[43m(\u001b[49m\u001b[38;5;124;43mf\u001b[39;49m\u001b[38;5;124;43m\"\u001b[39;49m\u001b[38;5;132;43;01m{\u001b[39;49;00m\u001b[43mtarget_dir\u001b[49m\u001b[38;5;132;43;01m}\u001b[39;49;00m\u001b[38;5;124;43m/\u001b[39;49m\u001b[38;5;132;43;01m{\u001b[39;49;00m\u001b[43mcoadd_fname\u001b[49m\u001b[38;5;132;43;01m}\u001b[39;49;00m\u001b[38;5;124;43m\"\u001b[39;49m\u001b[43m)\u001b[49m\n\u001b[1;32m     17\u001b[0m coadd_tgts \u001b[38;5;241m=\u001b[39m coadd_obj\u001b[38;5;241m.\u001b[39mtarget_ids()\u001b[38;5;241m.\u001b[39mdata\n\u001b[1;32m     19\u001b[0m \u001b[38;5;66;03m#-- select the spectrum of  targetid\u001b[39;00m\n",
      "File \u001b[0;32m/global/common/software/desi/perlmutter/desiconda/20240425-2.2.0/code/desispec/main/py/desispec/io/spectra.py:232\u001b[0m, in \u001b[0;36mread_spectra\u001b[0;34m(infile, single, targetids, rows, skip_hdus, select_columns)\u001b[0m\n\u001b[1;32m    206\u001b[0m \u001b[38;5;250m\u001b[39m\u001b[38;5;124;03m\"\"\"\u001b[39;00m\n\u001b[1;32m    207\u001b[0m \u001b[38;5;124;03mRead Spectra object from FITS file.\u001b[39;00m\n\u001b[1;32m    208\u001b[0m \n\u001b[0;32m   (...)\u001b[0m\n\u001b[1;32m    229\u001b[0m \u001b[38;5;124;03mUser can optionally specify targetids OR rows, but not both\u001b[39;00m\n\u001b[1;32m    230\u001b[0m \u001b[38;5;124;03m\"\"\"\u001b[39;00m\n\u001b[1;32m    231\u001b[0m log \u001b[38;5;241m=\u001b[39m get_logger()\n\u001b[0;32m--> 232\u001b[0m infile \u001b[38;5;241m=\u001b[39m \u001b[43mcheckgzip\u001b[49m\u001b[43m(\u001b[49m\u001b[43minfile\u001b[49m\u001b[43m)\u001b[49m\n\u001b[1;32m    233\u001b[0m ftype \u001b[38;5;241m=\u001b[39m np\u001b[38;5;241m.\u001b[39mfloat64\n\u001b[1;32m    234\u001b[0m \u001b[38;5;28;01mif\u001b[39;00m single:\n",
      "File \u001b[0;32m/global/common/software/desi/perlmutter/desiconda/20240425-2.2.0/code/desispec/main/py/desispec/io/util.py:47\u001b[0m, in \u001b[0;36mcheckgzip\u001b[0;34m(filename, readonly)\u001b[0m\n\u001b[1;32m     45\u001b[0m     \u001b[38;5;28;01mreturn\u001b[39;00m altfilename\n\u001b[1;32m     46\u001b[0m \u001b[38;5;28;01melse\u001b[39;00m:\n\u001b[0;32m---> 47\u001b[0m     \u001b[38;5;28;01mraise\u001b[39;00m \u001b[38;5;167;01mFileNotFoundError\u001b[39;00m(\u001b[38;5;124mf\u001b[39m\u001b[38;5;124m'\u001b[39m\u001b[38;5;124mNeither \u001b[39m\u001b[38;5;132;01m{\u001b[39;00mfilename\u001b[38;5;132;01m}\u001b[39;00m\u001b[38;5;124m nor \u001b[39m\u001b[38;5;132;01m{\u001b[39;00maltfilename\u001b[38;5;132;01m}\u001b[39;00m\u001b[38;5;124m'\u001b[39m)\n",
      "\u001b[0;31mFileNotFoundError\u001b[0m: Neither /global/cfs/cdirs/desi/spectro/redux/iron/healpix/main/bright//10/coadd-main-bright-10.fits nor /global/cfs/cdirs/desi/spectro/redux/iron/healpix/main/bright//10/coadd-main-bright-10.fits.gz"
     ]
    }
   ],
   "source": [
    "spec_dark = get_spec_data(selected_data[\"TARGETID\"][10], str(selected_data[\"SURVEY\"][10]), str(selected_data[\"PROGRAM\"][10]))\n"
   ]
  },
  {
   "cell_type": "code",
   "execution_count": null,
   "id": "b246e180-bcc2-44f7-888d-f1ee3bca89df",
   "metadata": {
    "tags": []
   },
   "outputs": [],
   "source": [
    "from astropy.convolution import convolve, Gaussian1DKernel\n",
    "\n",
    "# Define rest-frame wavelengths of common emission lines (in Angstroms)\n",
    "emission_lines = {\n",
    "    \"Lyα\": 1215.67,        # Lyman-alpha\n",
    "    \"C IV\": 1548.20,       # Carbon IV doublet (primary)\n",
    "    \"C IV (sec)\": 1550.77, # Carbon IV doublet (secondary)\n",
    "    \"He II\": 1640.42,      # Helium II\n",
    "    \"O III]\": 1660.81,     # Oxygen [O III]\n",
    "    \"O III] (sec)\": 1666.15,\n",
    "    \"C III]\": 1906.68,     # Carbon [C III] doublet (primary)\n",
    "    \"C III] (sec)\": 1908.73, # Carbon [C III] doublet (secondary)\n",
    "}\n",
    "\n",
    "\n",
    "# Redshift factor\n",
    "z = selected_data[\"Z\"][10]\n",
    "\n",
    "# Redshifted wavelengths\n",
    "redshifted_lines = {name: rest * (1 + z) for name, rest in emission_lines.items()}\n",
    "\n",
    "#-- plot the spectra\n",
    "fig, axes = plt.subplots(1, 1, figsize=(12, 6), sharex=True, sharey=True)\n",
    "\n",
    "axes.set_ylim(-3.9, 5)  #-- change depending on specific spectrum\n",
    "axes.set_ylabel(r\"$F_{\\lambda}\\ \\left[ 10^{-17}\\ {\\rm erg\\ s}^{-1}\\ {\\rm cm}^{-2}\\ \\AA^{-1} \\right]$\")\n",
    "\n",
    "axes.set_xlabel(r\"wavelength $\\lambda\\ \\left[ \\AA \\right]$\")\n",
    "spec_bright = spec_dark \n",
    "#-- plot the BRIGHT TIME and DARK TIME spectra (both smoothed) on the same axis\n",
    "axes.plot(spec_bright.wave[band], convolve(spec_bright.flux[band][0], Gaussian1DKernel(5)), color=\"black\", label='convolved')\n",
    "axes.plot(spec_dark.wave[band], spec_dark.flux[band][0], alpha = .5, color=\"maroon\", label='observed')\n",
    "\n",
    "axes.legend(markerfirst=False, loc=4, handletextpad=0.5, frameon=False)\n",
    "\n",
    "plt.tight_layout()\n",
    "plt.subplots_adjust(hspace=0.05)\n",
    "plt.show()\n"
   ]
  },
  {
   "cell_type": "code",
   "execution_count": 24,
   "id": "757454e3-25e3-4a57-96fc-cb22ca0a7b77",
   "metadata": {
    "tags": []
   },
   "outputs": [],
   "source": [
    "Quasar_cat = zpix_cat[(zpix_cat['SPECTYPE'] == 'QSO') & \n",
    "         (zpix_cat['ZWARN'] == 0 ) & \n",
    "         (zpix_cat['OBJTYPE'] == 'TGT') & \n",
    "         (zpix_cat['ZCAT_PRIMARY'] == 1)]\n",
    "         "
   ]
  },
  {
   "cell_type": "code",
   "execution_count": 25,
   "id": "864b202b-ce3e-47b9-9734-59004429bff9",
   "metadata": {
    "tags": []
   },
   "outputs": [
    {
     "data": {
      "text/plain": [
       "Text(0.5, 0, 'Redshift')"
      ]
     },
     "execution_count": 25,
     "metadata": {},
     "output_type": "execute_result"
    },
    {
     "data": {
      "image/png": "[encoded data removed]",
      "text/plain": [
       "<Figure size 640x480 with 1 Axes>"
      ]
     },
     "metadata": {},
     "output_type": "display_data"
    }
   ],
   "source": [
    "\n",
    "plt.hist(Quasar_cat['Z'], bins = 'auto')\n",
    "plt.ylabel('N(z)')\n",
    "plt.xlabel('Redshift')"
   ]
  },
  {
   "cell_type": "code",
   "execution_count": 26,
   "id": "25b6e778-6b0d-4083-b782-83ac82c8b9b0",
   "metadata": {},
   "outputs": [
    {
     "data": {
      "text/plain": [
       "Text(0.5, 0, 'Redshift')"
      ]
     },
     "execution_count": 26,
     "metadata": {},
     "output_type": "execute_result"
    },
    {
     "data": {
      "image/png": "[encoded data removed]",
      "text/plain": [
       "<Figure size 640x480 with 1 Axes>"
      ]
     },
     "metadata": {},
     "output_type": "display_data"
    }
   ],
   "source": [
    "plt.hist(Quasar_cat['Z'], bins = 'auto', cumulative=True)\n",
    "plt.ylabel('cumulated N(z)')\n",
    "plt.xlabel('Redshift')"
   ]
  },
  {
   "cell_type": "code",
   "execution_count": null,
   "id": "c5c6a353-fb4b-4f20-9600-794aae6defe1",
   "metadata": {},
   "outputs": [],
   "source": []
  }
 ],
 "metadata": {
  "kernelspec": {
   "display_name": "DESI main",
   "language": "python",
   "name": "desi-main"
  },
  "language_info": {
   "codemirror_mode": {
    "name": "ipython",
    "version": 3
   },
   "file_extension": ".py",
   "mimetype": "text/x-python",
   "name": "python",
   "nbconvert_exporter": "python",
   "pygments_lexer": "ipython3",
   "version": "3.10.14"
  }
 },
 "nbformat": 4,
 "nbformat_minor": 5
}
