{
 "cells": [
  {
   "cell_type": "code",
   "execution_count": 2,
   "id": "5cd44cd2-1320-4a4d-a0df-b0ee2235eae2",
   "metadata": {
    "tags": []
   },
   "outputs": [
    {
     "name": "stdout",
     "output_type": "stream",
     "text": [
      "Total ELG entries: 16500\n",
      "INFO:spectra.py:391:read_spectra: iotime 3.639 sec to read desi_bright_qso_batch2.fits at 2024-10-31T09:50:26.650836\n",
      "Total QSO entries: 3547\n",
      "Number of modified QSOs: 306\n",
      "Original QSO fluxes shape: (3547, 7781)\n",
      "Labels array shape: (3547,)\n",
      "Number of modified fluxes: 306\n"
     ]
    }
   ],
   "source": [
    "import os\n",
    "import numpy as np\n",
    "import pandas as pd\n",
    "import desispec.io\n",
    "from desispec.coaddition import coadd_cameras\n",
    "from astropy.io import fits\n",
    "import h5py\n",
    "import random\n",
    "\n",
    "np.random.seed(123)  # Set seed for NumPy's random generator\n",
    "random.seed(123)     # Set seed for Python's random module\n",
    "\n",
    "# Function to extract data from HDF5 files\n",
    "def extract_data_from_hdf5(file_path):\n",
    "    classifier, name, spectra, redshift = [], [], [], []\n",
    "    with h5py.File(file_path, \"r\") as hdf5_file:\n",
    "        classifier = hdf5_file[\"classifier\"][:]\n",
    "        name = hdf5_file[\"name\"][:]\n",
    "        spectra = hdf5_file[\"spectra\"][:]\n",
    "        redshift = hdf5_file[\"redshift\"][:]\n",
    "    return classifier, [n.decode() for n in name], spectra, redshift\n",
    "\n",
    "# Function to process and modify QSO fluxes\n",
    "def process_qso_fluxes(fits_directory, hdf5_directory, output_directory, lens_percentage=.1, num_files=None):\n",
    "    # List all HDF5 files in the directory and sort them by name\n",
    "    hdf5_files = sorted([f for f in os.listdir(hdf5_directory) if f.endswith(\".h5\")])\n",
    "\n",
    "    # Initialize arrays to store data\n",
    "    all_classifierselg, all_nameselg, all_spectraelg, all_redshiftselg = [], [], [], []\n",
    "\n",
    "    # Iterate over HDF5 files in the directory\n",
    "    for filename in hdf5_files:\n",
    "        file_path = os.path.join(hdf5_directory, filename)\n",
    "\n",
    "        # Extract data from the HDF5 file without filtering\n",
    "        classifier, name, spectra, redshift = extract_data_from_hdf5(file_path)\n",
    "\n",
    "        # Append the data to the respective arrays\n",
    "        all_classifierselg.extend(classifier)\n",
    "        all_nameselg.extend(name)\n",
    "        all_spectraelg.extend(spectra)\n",
    "        all_redshiftselg.extend(redshift)\n",
    "\n",
    "    print(f\"Total ELG entries: {len(all_redshiftselg)}\")\n",
    "    \n",
    "    # List all QSO FITS files in the directory\n",
    "    fits_files = sorted([f for f in os.listdir(fits_directory) if f.endswith(\".fits\")])\n",
    "\n",
    "    if num_files is not None:\n",
    "        fits_files = fits_files[:num_files]\n",
    "\n",
    "    # Initialize arrays to store aggregated QSO data\n",
    "    all_qso_fluxes = []\n",
    "    all_targetids_qso = []\n",
    "    all_redshifts_qso = []\n",
    "    all_ivar = []\n",
    "    file_qso_indices = []\n",
    "\n",
    "    # Iterate over FITS files to aggregate data\n",
    "    for fits_file in fits_files:\n",
    "        file_path = os.path.join(fits_directory, fits_file)\n",
    "\n",
    "        # Read the stacked spectra\n",
    "        qsos = desispec.io.read_spectra(file_path)\n",
    "\n",
    "        # Access the extra catalog data\n",
    "        extra_catalog = qsos.extra_catalog\n",
    "\n",
    "        # Extract TARGETID and Z arrays\n",
    "        targetids_qso = extra_catalog['TARGETID']\n",
    "        redshifts_qso = extra_catalog['Z']\n",
    "\n",
    "        # Combine camera spectra for QSOs\n",
    "        qso_fluxes = []\n",
    "        qso_ivar = []\n",
    "        for i2 in range(len(qsos)):\n",
    "            coadd = coadd_cameras(qsos[i2])\n",
    "            qso_fluxes.append(coadd.flux['brz'][0])\n",
    "            qso_ivar.append(coadd.ivar['brz'][0])\n",
    "\n",
    "        # Append data to the aggregated arrays\n",
    "        all_qso_fluxes.extend(qso_fluxes)\n",
    "        all_ivar.extend(qso_ivar)\n",
    "        all_targetids_qso.extend(targetids_qso)\n",
    "        all_redshifts_qso.extend(redshifts_qso)\n",
    "        file_qso_indices.append(len(all_qso_fluxes))\n",
    "\n",
    "    all_qso_fluxes = np.array(all_qso_fluxes)\n",
    "    all_ivar = np.array(all_ivar)\n",
    "    all_targetids_qso = np.array(all_targetids_qso)\n",
    "    all_redshifts_qso = np.array(all_redshifts_qso)\n",
    "    \n",
    "    print(f\"Total QSO entries: {len(all_redshifts_qso)}\")\n",
    "    \n",
    "    # Initialize a labels array with zeros\n",
    "    num_qsos = len(all_qso_fluxes)\n",
    "    labels = np.zeros(num_qsos, dtype=int)\n",
    "    elg_redshifts_for_qsos = np.zeros(num_qsos)\n",
    "    elg_names_for_qsos = np.array([\"\"] * num_qsos, dtype=object)\n",
    "\n",
    "    # Handling 100% lensing when lens_percentage is 1.0\n",
    "    if lens_percentage == 1.0:\n",
    "        valid_qso_indices = np.where(all_redshifts_qso <= 3.0)[0]\n",
    "        print(f\"Number of valid QSOs for lensing: {len(valid_qso_indices)}\")\n",
    "    else:\n",
    "        # Randomly sample a percentage of the QSOs, regardless of redshift\n",
    "        num_modify = int(lens_percentage * num_qsos)\n",
    "        valid_qso_indices = random.sample(range(num_qsos), num_modify)\n",
    "\n",
    "    # List to keep track of successfully modified indices\n",
    "    modified_indices = []\n",
    "\n",
    "    # Superimpose ELG fluxes onto QSO fluxes based on the redshift condition\n",
    "    for i in valid_qso_indices:\n",
    "        if i >= len(all_redshiftselg):\n",
    "            print(f\"QSO index {i} exceeds ELG redshift data size, skipping.\")\n",
    "            continue\n",
    "        \n",
    "        elg_candidates = np.where(all_redshiftselg > all_redshifts_qso[i])[0]\n",
    "        if elg_candidates.size > 0:\n",
    "            elg_idx = random.choice(elg_candidates)\n",
    "            elg_flux = pd.DataFrame(all_spectraelg[elg_idx])[1].values\n",
    "\n",
    "            # Generate adjusted_factor from a normal distribution\n",
    "            while True:\n",
    "                adjusted_factor = np.random.normal(4, 2)\n",
    "                if adjusted_factor >= 2 and adjusted_factor <= 4:\n",
    "                    break\n",
    "\n",
    "            all_qso_fluxes[i] += elg_flux * adjusted_factor\n",
    "            labels[i] = 1  # Set the label to 1 to indicate modification\n",
    "            elg_redshifts_for_qsos[i] = all_redshiftselg[elg_idx]\n",
    "            elg_names_for_qsos[i] = all_nameselg[elg_idx]\n",
    "            modified_indices.append(i)\n",
    "\n",
    "    print(f\"Number of modified QSOs: {len(modified_indices)}\")\n",
    "\n",
    "    # Output the modified data into separate files based on the original distribution\n",
    "    start_idx = 0\n",
    "    for idx, fits_file in enumerate(fits_files):\n",
    "        end_idx = file_qso_indices[idx]\n",
    "\n",
    "        # Create a new HDUList object for the modified data\n",
    "        hdu_list = fits.HDUList()\n",
    "\n",
    "        # Create a Primary HDU\n",
    "        primary_hdu = fits.PrimaryHDU()\n",
    "        hdu_list.append(primary_hdu)\n",
    "\n",
    "        # Create a BinaryTableHDU for the modified fluxes\n",
    "        col1 = fits.Column(name='TARGETID', format='K', array=all_targetids_qso[start_idx:end_idx])\n",
    "        col2 = fits.Column(name='Z', format='D', array=all_redshifts_qso[start_idx:end_idx])\n",
    "        col3 = fits.Column(name='FLUX', format='PD()', array=all_qso_fluxes[start_idx:end_idx])\n",
    "        col4 = fits.Column(name='ivar', format='PD()', array=all_ivar[start_idx:end_idx])\n",
    "        col5 = fits.Column(name='LABEL', format='I', array=labels[start_idx:end_idx])  # Add labels column\n",
    "        col6 = fits.Column(name='ELG_Z', format='D', array=elg_redshifts_for_qsos[start_idx:end_idx])  # Add ELG redshift column\n",
    "        col7 = fits.Column(name='ELG_NAME', format='A20', array=elg_names_for_qsos[start_idx:end_idx])  # Add ELG name column\n",
    "        cols = fits.ColDefs([col1, col2, col3, col4, col5, col6, col7])\n",
    "        hdu = fits.BinTableHDU.from_columns(cols)\n",
    "\n",
    "        hdu_list.append(hdu)\n",
    "\n",
    "        # Write to a new FITS file\n",
    "        output_file_path = os.path.join(output_directory, f\"modified_test_set_Phase2_{fits_file}\")\n",
    "        hdu_list.writeto(output_file_path, overwrite=True)\n",
    "\n",
    "        start_idx = end_idx\n",
    "\n",
    "    # Output the results\n",
    "    print(\"Original QSO fluxes shape:\", all_qso_fluxes.shape)\n",
    "    print(\"Labels array shape:\", labels.shape)\n",
    "    print(\"Number of modified fluxes:\", np.sum(labels))\n",
    "\n",
    "    # Ensure the changes are reflected in a new array for further analysis\n",
    "    resulting_fluxes = all_qso_fluxes\n",
    "\n",
    "# Example usage\n",
    "fits_directory = os.path.expandvars('$SCRATCH/MainQSO')\n",
    "hdf5_directory = 'fastspec_ELG1'\n",
    "output_directory = os.path.expandvars('$PSCRATCH')\n",
    "# I directly indicate what percentage of the files I want to be lensed and select the number of files \n",
    "# i want to use from the MainQSO directory (whereever the QSO files are located\n",
    "process_qso_fluxes(fits_directory, hdf5_directory, output_directory, lens_percentage=.1, num_files=1)\n"
   ]
  },
  {
   "cell_type": "markdown",
   "id": "97aa57c4-5697-4613-a663-71400616abe6",
   "metadata": {},
   "source": [
    "------------------------------------------------------------------------------------------"
   ]
  },
  {
   "cell_type": "markdown",
   "id": "db47d436-f120-40c5-a9cf-f79d4acb005f",
   "metadata": {},
   "source": [
    "# Lets try to open a file"
   ]
  },
  {
   "cell_type": "code",
   "execution_count": 1,
   "id": "b5177bee-905c-4890-9c89-80657718ce73",
   "metadata": {
    "tags": []
   },
   "outputs": [],
   "source": [
    "import os\n",
    "import numpy as np\n",
    "import pandas as pd\n",
    "import desispec.io\n",
    "from desispec.coaddition import coadd_cameras\n",
    "from astropy.io import fits\n",
    "import h5py\n",
    "import random\n"
   ]
  },
  {
   "cell_type": "code",
   "execution_count": 7,
   "id": "363464d8-34e7-4310-bc59-d23d511b2346",
   "metadata": {
    "tags": []
   },
   "outputs": [
    {
     "name": "stdout",
     "output_type": "stream",
     "text": [
      "Filename: /pscratch/sd/j/jspiller/modified_desi_bright_qso_batch3.fits\n",
      "No.    Name      Ver    Type      Cards   Dimensions   Format\n",
      "  0  PRIMARY       1 PrimaryHDU       4   ()      \n",
      "  1                1 BinTableHDU     20   3182R x 6C   [K, D, PD(7781), I, D, 20A]   \n",
      "Primary HDU Header:\n",
      "SIMPLE  =                    T / conforms to FITS standard                      BITPIX  =                    8 / array data type                                NAXIS   =                    0 / number of array dimensions                     EXTEND  =                    T                                                  END                                                                                                                                                                                                                                                                                                                                                                                                                                                                                                                                                                                                                                                                                                                                                                                                                                                                                                                                                                                                                                                                                                                                                                                                                                                                                                                                                                                                                                                                                                                                                                                                                                                                                                                                                                                                                                                                                                                                                                                                                                                                                                                                                                                                                                                                                                                                                                                                                                                                                                                                                                                                                                                             \n",
      "\n",
      "Column names in the binary table HDU:\n",
      "['TARGETID', 'Z', 'FLUX', 'LABEL', 'ELG_Z', 'ELG_NAME']\n",
      "\n",
      "Example data:\n",
      "TARGETID: [39628019920274440 39628019920275080 39628019920275564 39628019920275705\n",
      " 39628019920275920 39628019920276463 39628019920276604 39628019920276904\n",
      " 39628019920277313 39628019920277598 39628019920278234 39628019920278323\n",
      " 39628019920278474 39628019924468559 39628019924468710 39628019924471312\n",
      " 39628019924471677 39628025871992946 39628025871993262 39628025871993753]\n",
      "Redshifts: [1.76324023 0.82848341 1.33301668 1.75204596 0.74158246 1.62729964\n",
      " 1.15463898 0.8308867  1.68759377 0.92258967 0.92383071 0.98378502\n",
      " 1.58405146 1.29997922 0.7796226  1.44515208 0.94523072 0.75998335\n",
      " 1.42483086 0.99585109]\n",
      "Fluxes: [array([ 5.85313225, -0.19372588, -2.88811731, ...,  0.24625956,\n",
      "        -0.34217176,  0.16419606])\n",
      " array([-1.45802438, 11.67944431,  1.59041142, ...,  0.74474108,\n",
      "         0.45774144,  0.47343257])\n",
      " array([7.88709736, 5.41078138, 6.6553545 , ..., 0.42519209, 0.12621541,\n",
      "        0.18861604])\n",
      " array([ 0.92963994,  1.32524657,  4.0608058 , ..., -0.20237818,\n",
      "         0.26626554, -0.10895777])\n",
      " array([4.31720352, 2.03079915, 4.48226833, ..., 0.72951537, 1.40562987,\n",
      "        1.15205574])\n",
      " array([ 0.23417543,  2.71582484,  0.19658624, ...,  0.33354944,\n",
      "        -0.28626356,  0.35030451])\n",
      " array([ 1.84057522, -1.91553509, -3.14171672, ..., -0.14008379,\n",
      "         0.65041625,  0.29747638])\n",
      " array([2.55699252, 2.39980007, 5.3192268 , ..., 1.79018263, 0.92788311,\n",
      "        1.73109717])\n",
      " array([ 4.80777311, -2.79333353,  1.05427384, ..., -0.15468271,\n",
      "        -0.05512852,  0.30474237])\n",
      " array([-0.38807991,  3.5628233 ,  3.6181519 , ...,  0.35900709,\n",
      "        -0.03745715,  0.80593145])\n",
      " array([ 1.97540438, -2.0161767 ,  0.88807535, ...,  0.24018404,\n",
      "         0.37630451,  0.54561061])\n",
      " array([-1.07602751,  1.45211291, 10.48146057, ...,  3.46294165,\n",
      "         2.84567857,  3.31473994])\n",
      " array([2.51086712, 1.50455856, 5.02518415, ..., 0.74926001, 0.1566999 ,\n",
      "        0.33299577])\n",
      " array([7.64324093, 5.67266703, 6.26578426, ..., 0.11474083, 0.31808886,\n",
      "        0.51226681])\n",
      " array([ 8.88439841, -0.78682396,  3.99998204, ...,  0.7886133 ,\n",
      "         0.57859741,  0.95788197])\n",
      " array([-0.95884579,  1.26506233,  0.57811594, ...,  0.46213955,\n",
      "         0.60846084, -0.18278591])\n",
      " array([-0.03938375,  6.1078887 ,  0.50835311, ...,  0.21322982,\n",
      "         0.15212643,  0.20670496])\n",
      " array([6.37068224, 5.94548035, 4.1022644 , ..., 1.69882691, 1.53392971,\n",
      "        0.80765498])\n",
      " array([ 2.05491018,  0.44057634,  0.62081414, ...,  0.25261623,\n",
      "        -0.21896708,  0.24825148])\n",
      " array([-2.31491017,  3.16757989, -1.93886709, ..., -0.03651652,\n",
      "         0.24381211,  0.56519818])                              ]\n",
      "Labels: [0 0 0 0 0 0 0 1 0 0 0 0 0 0 1 0 0 0 0 0]\n",
      "ELG Fluxes: [0.         0.         0.         0.         0.         0.\n",
      " 0.         1.13815082 0.         0.         0.         0.\n",
      " 0.         0.         1.4998894  0.         0.         0.\n",
      " 0.         0.        ]\n",
      "ELG name: ['' '' '' '' '' '' '' '39627739967259517EL' '' '' '' '' '' ''\n",
      " '39627752193656203EL' '' '' '' '' '']\n",
      "\n",
      "Number of entries: 3182\n"
     ]
    }
   ],
   "source": [
    "\n",
    "# Define the path to the FITS file you want to open\n",
    "fits_file_path = os.path.join(os.path.expandvars('$SCRATCH/'), 'modified_desi_bright_qso_batch3.fits')\n",
    "\n",
    "# Open the FITS file\n",
    "with fits.open(fits_file_path) as hdul:\n",
    "    # Print the HDU (Header/Data Unit) list\n",
    "    hdul.info()\n",
    "    \n",
    "    # Access the primary HDU\n",
    "    primary_hdu = hdul[0]\n",
    "    print(\"Primary HDU Header:\")\n",
    "    print(primary_hdu.header)\n",
    "    \n",
    "    # Access the binary table HDU\n",
    "    binary_table_hdu = hdul[1]\n",
    "    data = binary_table_hdu.data\n",
    "\n",
    "    # Print the column names\n",
    "    print(\"\\nColumn names in the binary table HDU:\")\n",
    "    print(data.columns.names)\n",
    "    \n",
    "    # Access data from columns\n",
    "    target_ids = data['TARGETID']\n",
    "    redshifts = data['Z']\n",
    "    fluxes = data['FLUX']\n",
    "    labels = data['LABEL']\n",
    "    elg_fluxes = data['ELG_z']  # Access the ELG flux column\n",
    "    ename = data['ELG_NAME']\n",
    "    #ivar = data['ivar']\n",
    "\n",
    "    # Print some example data\n",
    "    print(\"\\nExample data:\")\n",
    "    print(\"TARGETID:\", target_ids[:20])\n",
    "    print(\"Redshifts:\", redshifts[:20])\n",
    "    print(\"Fluxes:\", fluxes[:20])\n",
    "    print(\"Labels:\", labels[:20])\n",
    "    print(\"ELG Fluxes:\", elg_fluxes[:20])  # Print some example ELG fluxes\n",
    "    print(\"ELG name:\", ename[:20])\n",
    "\n",
    "# Output some information about the data\n",
    "print(\"\\nNumber of entries:\", len(data))\n"
   ]
  },
  {
   "cell_type": "code",
   "execution_count": 12,
   "id": "778c374a-0d40-4aaa-956d-531615beb69a",
   "metadata": {
    "tags": []
   },
   "outputs": [
    {
     "name": "stdout",
     "output_type": "stream",
     "text": [
      "\n",
      "Example data:\n",
      "TARGETID: 39628019920276904\n",
      "Redshift: 0.8308867018448837\n",
      "Fluxes: [2.55699252 2.39980007 5.3192268  ... 1.79018263 0.92788311 1.73109717]\n",
      "Labels: 1\n",
      "ELG Redshift: 1.1381508235845756\n",
      "ELG NAME 39627739967259517EL\n"
     ]
    }
   ],
   "source": [
    "i = 7\n",
    "print(\"\\nExample data:\")\n",
    "print(\"TARGETID:\", target_ids[i])\n",
    "print(\"Redshift:\", redshifts[i])\n",
    "print(\"Fluxes:\", fluxes[i])\n",
    "print(\"Labels:\", labels[i])\n",
    "print(\"ELG Redshift:\", elg_fluxes[i])\n",
    "print(\"ELG NAME\", ename[i])\n",
    "#print(\"ELG ivar\", ivar[i])# Print some example ELG fluxes\n"
   ]
  },
  {
   "cell_type": "code",
   "execution_count": 13,
   "id": "208e9eba-f694-46b7-ae4f-f8a071043e1e",
   "metadata": {
    "tags": []
   },
   "outputs": [
    {
     "data": {
      "text/plain": [
       "[<matplotlib.lines.Line2D at 0x7f0a59aa05e0>]"
      ]
     },
     "execution_count": 13,
     "metadata": {},
     "output_type": "execute_result"
    },
    {
     "data": {
      "image/png": "[encoded data removed]",
      "text/plain": [
       "<Figure size 2000x600 with 1 Axes>"
      ]
     },
     "metadata": {},
     "output_type": "display_data"
    }
   ],
   "source": [
    "import matplotlib.pyplot as plt\n",
    "Flux = fluxes[i]\n",
    "plt.figure(figsize = (20,6))\n",
    "r = 3727 * (1 + elg_fluxes[i])\n",
    "plt.axvline(r, color = 'red', linestyle = '--')\n",
    "\n",
    "wavelength_min = 3600  # in nm\n",
    "wavelength_max = 9824.  # in nm\n",
    "\n",
    "# Create an array of 7781 linearly spaced values within this range\n",
    "pixels = np.linspace(wavelength_min, wavelength_max, 7781)\n",
    "\n",
    "\n",
    "\n",
    "plt.plot(pixels, fluxes[i])\n",
    "#plt.plot(pixels, 1/np.sqrt(ivar[i]))\n"
   ]
  },
  {
   "cell_type": "code",
   "execution_count": 14,
   "id": "2acfa6ff-d9ec-4829-bd26-3652b10054e9",
   "metadata": {
    "tags": []
   },
   "outputs": [
    {
     "data": {
      "text/plain": [
       "7968.888119499714"
      ]
     },
     "execution_count": 14,
     "metadata": {},
     "output_type": "execute_result"
    }
   ],
   "source": [
    "r"
   ]
  },
  {
   "cell_type": "code",
   "execution_count": 5,
   "id": "a89c1620-e29a-43bb-8f11-7f5eec7f73b2",
   "metadata": {},
   "outputs": [
    {
     "name": "stdout",
     "output_type": "stream",
     "text": [
      "starting pipeline\n"
     ]
    },
    {
     "data": {
      "text/plain": [
       "558"
      ]
     },
     "execution_count": 5,
     "metadata": {},
     "output_type": "execute_result"
    }
   ],
   "source": [
    "import os\n",
    "import numpy as np\n",
    "from astropy.io import fits\n",
    "from astropy.table import Table\n",
    "import desisim.templates\n",
    "import desispec.io\n",
    "\n",
    "print(\"starting pipeline\")\n",
    "\n",
    "specprod = 'iron'    # Internal name for the EDR\n",
    "specprod_dir = '/global/cfs/cdirs/desi/public/dr1/spectro/redux/iron'\n",
    "\n",
    "zpix_cat = Table.read(f'{specprod_dir}/zcatalog/v1/zall-pix-{specprod}.fits', hdu=\"ZCATALOG\")\n",
    "\n",
    "Quasar_cat2 = zpix_cat[(zpix_cat['SPECTYPE'] == 'QSO') & \n",
    "     (zpix_cat['Z'] < 0.1) & \n",
    "     (zpix_cat['Z'] >= 0.03) & \n",
    "     (zpix_cat['ZWARN'] == 0 ) & \n",
    "     (zpix_cat['OBJTYPE'] == 'TGT') & \n",
    "     (zpix_cat['ZCAT_PRIMARY'] == 1) &\n",
    "     (zpix_cat['SURVEY']=='main') & (zpix_cat['PROGRAM']=='dark')]\n",
    "\n",
    "num = np.unique(Quasar_cat2['HEALPIX'])\n",
    "len(num)"
   ]
  },
  {
   "cell_type": "code",
   "execution_count": null,
   "id": "60d790ec-b81e-4df9-b22b-a4231e981f2b",
   "metadata": {},
   "outputs": [],
   "source": []
  }
 ],
 "metadata": {
  "kernelspec": {
   "display_name": "DESI main",
   "language": "python",
   "name": "desi-main"
  },
  "language_info": {
   "codemirror_mode": {
    "name": "ipython",
    "version": 3
   },
   "file_extension": ".py",
   "mimetype": "text/x-python",
   "name": "python",
   "nbconvert_exporter": "python",
   "pygments_lexer": "ipython3",
   "version": "3.10.14"
  }
 },
 "nbformat": 4,
 "nbformat_minor": 5
}
