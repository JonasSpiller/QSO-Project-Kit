{
 "cells": [
  {
   "cell_type": "code",
   "id": "initial_id",
   "metadata": {
    "collapsed": true,
    "ExecuteTime": {
     "end_time": "2025-04-13T09:41:37.463537Z",
     "start_time": "2025-04-13T09:41:37.034269Z"
    }
   },
   "source": [
    "import h5py\n",
    "import pandas as pd\n",
    "import matplotlib.pyplot as plt\n",
    "file_path = \"output_data_batch_10.h5\"\n",
    "with h5py.File(file_path, \"r\") as hdf5_file:\n",
    "    classifier = hdf5_file[\"classifier\"][:]\n",
    "    name = hdf5_file[\"name\"][:]\n",
    "    spectra = hdf5_file[\"spectra\"][:]\n",
    "    redshift = hdf5_file[\"redshift\"][:]\n",
    "    spectrum = pd.DataFrame(spectra[0])"
   ],
   "outputs": [],
   "execution_count": 1
  },
  {
   "metadata": {
    "ExecuteTime": {
     "end_time": "2025-04-13T09:41:41.166162Z",
     "start_time": "2025-04-13T09:41:41.106747Z"
    }
   },
   "cell_type": "code",
   "source": [
    "plt.plot(spectrum[0], spectrum[1])\n",
    "print(min(spectrum[0]), max(spectrum[0]))\n",
    "print(len(spectrum[0]), len(spectrum[1]))"
   ],
   "id": "45e48ae40dfe5dd8",
   "outputs": [
    {
     "name": "stdout",
     "output_type": "stream",
     "text": [
      "3600.0 9824.000000001415\n",
      "7781 7781\n"
     ]
    },
    {
     "data": {
      "text/plain": [
       "<Figure size 640x480 with 1 Axes>"
      ],
      "image/png": "[encoded data removed]"
     },
     "metadata": {},
     "output_type": "display_data"
    }
   ],
   "execution_count": 3
  },
  {
   "metadata": {
    "ExecuteTime": {
     "end_time": "2025-04-13T09:32:23.134943Z",
     "start_time": "2025-04-13T09:32:23.097022Z"
    }
   },
   "cell_type": "code",
   "source": [
    "with h5py.File(file_path, \"r\") as f:\n",
    "    def explore(name, obj):\n",
    "        print(f\"{name} ({type(obj)})\")\n",
    "        if isinstance(obj, h5py.Dataset):\n",
    "            print(f\"  shape: {obj.shape}, dtype: {obj.dtype}\")\n",
    "            print(f\"  sample: {obj[()][:5] if obj.shape else obj[()]}\")\n",
    "        if isinstance(obj, h5py.Group):\n",
    "            print(f\"  keys: {list(obj.keys())}\")\n",
    "    \n",
    "    f.visititems(explore)"
   ],
   "id": "bfe5d3456d87a24e",
   "outputs": [
    {
     "name": "stdout",
     "output_type": "stream",
     "text": [
      "classifier (<class 'h5py._hl.dataset.Dataset'>)\n",
      "  shape: (1500,), dtype: |S3\n",
      "  sample: [b'ELG' b'ELG' b'ELG' b'ELG' b'ELG']\n",
      "name (<class 'h5py._hl.dataset.Dataset'>)\n",
      "  shape: (1500,), dtype: |S17\n",
      "  sample: [b'39627749127623786' b'39627749127624050' b'39627749127624050'\n",
      " b'39627749127624926' b'39627749127626048']\n",
      "redshift (<class 'h5py._hl.dataset.Dataset'>)\n",
      "  shape: (1500,), dtype: float64\n",
      "  sample: [0.71159299 0.29646434 0.29646434 1.54858075 1.25430163]\n",
      "spectra (<class 'h5py._hl.dataset.Dataset'>)\n",
      "  shape: (1500, 7781, 2), dtype: float64\n",
      "  sample: [[[3.60000000e+03 4.30491477e-01]\n",
      "  [3.60080000e+03 4.29601252e-01]\n",
      "  [3.60160000e+03 4.28235859e-01]\n",
      "  ...\n",
      "  [9.82240000e+03 1.02922760e-01]\n",
      "  [9.82320000e+03 1.02889821e-01]\n",
      "  [9.82400000e+03 1.02835700e-01]]\n",
      "\n",
      " [[3.60000000e+03 9.17733371e-01]\n",
      "  [3.60080000e+03 9.44020033e-01]\n",
      "  [3.60160000e+03 9.46043491e-01]\n",
      "  ...\n",
      "  [9.82240000e+03 8.09499562e-01]\n",
      "  [9.82320000e+03 8.09812248e-01]\n",
      "  [9.82400000e+03 8.10111284e-01]]\n",
      "\n",
      " [[3.60000000e+03 9.17733371e-01]\n",
      "  [3.60080000e+03 9.44020033e-01]\n",
      "  [3.60160000e+03 9.46043491e-01]\n",
      "  ...\n",
      "  [9.82240000e+03 8.09499562e-01]\n",
      "  [9.82320000e+03 8.09812248e-01]\n",
      "  [9.82400000e+03 8.10111284e-01]]\n",
      "\n",
      " [[3.60000000e+03 1.48935080e-01]\n",
      "  [3.60080000e+03 1.48277655e-01]\n",
      "  [3.60160000e+03 1.47413701e-01]\n",
      "  ...\n",
      "  [9.82240000e+03 2.09535062e-02]\n",
      "  [9.82320000e+03 2.09551919e-02]\n",
      "  [9.82400000e+03 2.09502801e-02]]\n",
      "\n",
      " [[3.60000000e+03 1.90165147e-01]\n",
      "  [3.60080000e+03 1.91660210e-01]\n",
      "  [3.60160000e+03 1.92534208e-01]\n",
      "  ...\n",
      "  [9.82240000e+03 1.88779771e-01]\n",
      "  [9.82320000e+03 1.89286023e-01]\n",
      "  [9.82400000e+03 1.89703673e-01]]]\n"
     ]
    }
   ],
   "execution_count": 2
  },
  {
   "metadata": {},
   "cell_type": "code",
   "outputs": [],
   "execution_count": null,
   "source": "",
   "id": "a13db8719d53b932"
  }
 ],
 "metadata": {
  "kernelspec": {
   "display_name": "Python 3",
   "language": "python",
   "name": "python3"
  },
  "language_info": {
   "codemirror_mode": {
    "name": "ipython",
    "version": 2
   },
   "file_extension": ".py",
   "mimetype": "text/x-python",
   "name": "python",
   "nbconvert_exporter": "python",
   "pygments_lexer": "ipython2",
   "version": "2.7.6"
  }
 },
 "nbformat": 4,
 "nbformat_minor": 5
}
