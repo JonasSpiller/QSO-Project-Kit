{
 "cells": [
  {
   "cell_type": "code",
   "execution_count": 1,
   "id": "c63fd347-d57b-4b52-a909-488c75a630cd",
   "metadata": {
    "tags": []
   },
   "outputs": [],
   "source": [
    "from Lens_Search import QSOFluxProcessor\n",
    "from astropy.io import fits\n",
    "\n",
    "\n",
    "import os\n",
    "import json\n",
    "import numpy as np\n",
    "import fitsio\n"
   ]
  },
  {
   "cell_type": "code",
   "execution_count": 2,
   "id": "9fd0b1ac-46d7-4886-a983-bc69ac162dd9",
   "metadata": {
    "tags": []
   },
   "outputs": [],
   "source": [
    "noise = np.load('ivar.npy')\n",
    "flux = np.load('flux.npy')\n",
    "target = np.load('target.npy')\n",
    "Z_QSO = np.load('Z_QSO.npy')"
   ]
  },
  {
   "cell_type": "code",
   "execution_count": 3,
   "id": "3766f310-6f89-41d9-bc7c-40e560e6d947",
   "metadata": {},
   "outputs": [
    {
     "data": {
      "text/plain": [
       "2150"
      ]
     },
     "execution_count": 3,
     "metadata": {},
     "output_type": "execute_result"
    }
   ],
   "source": [
    "len(target)"
   ]
  },
  {
   "cell_type": "code",
   "execution_count": 4,
   "id": "f8b0d1a0-66b7-46a0-be94-8d2b7d8c0b67",
   "metadata": {
    "tags": []
   },
   "outputs": [
    {
     "name": "stderr",
     "output_type": "stream",
     "text": [
      "2025-04-07 12:41:23.586592: I tensorflow/core/platform/cpu_feature_guard.cc:193] This TensorFlow binary is optimized with oneAPI Deep Neural Network Library (oneDNN) to use the following CPU instructions in performance-critical operations:  AVX2 FMA\n",
      "To enable them in other operations, rebuild TensorFlow with the appropriate compiler flags.\n",
      "2025-04-07 12:41:24.380334: I tensorflow/core/common_runtime/gpu/gpu_device.cc:1532] Created device /job:localhost/replica:0/task:0/device:GPU:0 with 36812 MB memory:  -> device: 0, name: NVIDIA A100-PCIE-40GB, pci bus id: 0000:c3:00.0, compute capability: 8.0\n",
      "2025-04-07 12:41:27.148461: I tensorflow/stream_executor/cuda/cuda_dnn.cc:384] Loaded cuDNN version 8302\n"
     ]
    },
    {
     "name": "stdout",
     "output_type": "stream",
     "text": [
      "  88/2150 [>.............................] - ETA: 3s     "
     ]
    },
    {
     "name": "stderr",
     "output_type": "stream",
     "text": [
      "2025-04-07 12:41:28.645409: I tensorflow/stream_executor/cuda/cuda_blas.cc:1786] TensorFloat-32 will be used for the matrix multiplication. This will only be logged once.\n"
     ]
    },
    {
     "name": "stdout",
     "output_type": "stream",
     "text": [
      "2150/2150 [==============================] - 6s 1ms/step\n",
      "68/68 [==============================] - 0s 3ms/step\n",
      "Error in fit_gaussian: Each lower bound must be strictly less than each upper bound.\n"
     ]
    }
   ],
   "source": [
    "\n",
    "results = QSOFluxProcessor.process(flux, 1, target, noise, Z_QSO, skyline_mask = False)"
   ]
  },
  {
   "cell_type": "code",
   "execution_count": 5,
   "id": "bd579ca4-a174-4b00-9210-cfd3ab3e9a58",
   "metadata": {},
   "outputs": [
    {
     "data": {
      "text/plain": [
       "(array([], dtype=int64),)"
      ]
     },
     "execution_count": 5,
     "metadata": {},
     "output_type": "execute_result"
    }
   ],
   "source": [
    "np.where(results['SNR'] == np.nan)"
   ]
  },
  {
   "cell_type": "code",
   "execution_count": 6,
   "id": "ce789758-788a-4e41-bbd8-0067cda80d97",
   "metadata": {
    "tags": []
   },
   "outputs": [],
   "source": [
    "results_filtered = results[(results['Score'] > .7) & \n",
    "                           (results['SNR'] > 3) & \n",
    "                           (results['z_qso'] < results['Fitted Redshift']) & \n",
    "                           ((results['Fitted Redshift'] - results['z_qso'])>0.1)]"
   ]
  },
  {
   "cell_type": "code",
   "execution_count": 7,
   "id": "caf3dbe9-e658-446d-8204-7bf1422a9692",
   "metadata": {
    "tags": []
   },
   "outputs": [
    {
     "data": {
      "text/plain": [
       "69"
      ]
     },
     "execution_count": 7,
     "metadata": {},
     "output_type": "execute_result"
    }
   ],
   "source": [
    "np.where(results_filtered['Name'] == 39627726679704831)[0][0]"
   ]
  },
  {
   "cell_type": "code",
   "execution_count": 23,
   "id": "27a3cae4-a95d-48fa-9aa9-f92decb82b10",
   "metadata": {},
   "outputs": [
    {
     "data": {
      "text/plain": [
       "(array([296]),)"
      ]
     },
     "execution_count": 23,
     "metadata": {},
     "output_type": "execute_result"
    }
   ],
   "source": [
    "np.where(target == 39627647021484584)"
   ]
  },
  {
   "cell_type": "code",
   "execution_count": 9,
   "id": "b6b03b0b-7210-455f-9a16-4a1f9fd5b6a5",
   "metadata": {
    "tags": []
   },
   "outputs": [
    {
     "data": {
      "text/html": [
       "<div>\n",
       "<style scoped>\n",
       "    .dataframe tbody tr th:only-of-type {\n",
       "        vertical-align: middle;\n",
       "    }\n",
       "\n",
       "    .dataframe tbody tr th {\n",
       "        vertical-align: top;\n",
       "    }\n",
       "\n",
       "    .dataframe thead th {\n",
       "        text-align: right;\n",
       "    }\n",
       "</style>\n",
       "<table border=\"1\" class=\"dataframe\">\n",
       "  <thead>\n",
       "    <tr style=\"text-align: right;\">\n",
       "      <th></th>\n",
       "      <th>Name</th>\n",
       "      <th>z_qso</th>\n",
       "      <th>Score</th>\n",
       "      <th>Classification</th>\n",
       "      <th>Predicted Redshift</th>\n",
       "      <th>Fitted Redshift</th>\n",
       "      <th>Redshift Error</th>\n",
       "      <th>Best Chi-Squared</th>\n",
       "      <th>Amp1</th>\n",
       "      <th>Err_Amp1</th>\n",
       "      <th>Mean1</th>\n",
       "      <th>Err_Mean1</th>\n",
       "      <th>Sigma1</th>\n",
       "      <th>Err_Sigma1</th>\n",
       "      <th>Mean2</th>\n",
       "      <th>Err_Mean2</th>\n",
       "      <th>Cont</th>\n",
       "      <th>Err_Cont</th>\n",
       "      <th>SNR</th>\n",
       "    </tr>\n",
       "  </thead>\n",
       "  <tbody>\n",
       "    <tr>\n",
       "      <th>13</th>\n",
       "      <td>39627450753222356</td>\n",
       "      <td>0.386886</td>\n",
       "      <td>0.980855</td>\n",
       "      <td>Lens</td>\n",
       "      <td>1.476184</td>\n",
       "      <td>1.450433</td>\n",
       "      <td>0.017687</td>\n",
       "      <td>inf</td>\n",
       "      <td>1.091324</td>\n",
       "      <td>3.462497</td>\n",
       "      <td>9130.311866</td>\n",
       "      <td>65.903394</td>\n",
       "      <td>9132.704144</td>\n",
       "      <td>49.393613</td>\n",
       "      <td>4.732009</td>\n",
       "      <td>15.242887</td>\n",
       "      <td>1.126327</td>\n",
       "      <td>0.033228</td>\n",
       "      <td>13.065966</td>\n",
       "    </tr>\n",
       "    <tr>\n",
       "      <th>15</th>\n",
       "      <td>39627461440308174</td>\n",
       "      <td>1.230204</td>\n",
       "      <td>0.854681</td>\n",
       "      <td>Lens</td>\n",
       "      <td>1.451261</td>\n",
       "      <td>1.550557</td>\n",
       "      <td>0.000189</td>\n",
       "      <td>inf</td>\n",
       "      <td>1.347146</td>\n",
       "      <td>0.865584</td>\n",
       "      <td>9503.374888</td>\n",
       "      <td>0.705938</td>\n",
       "      <td>9505.000001</td>\n",
       "      <td>0.528549</td>\n",
       "      <td>0.775127</td>\n",
       "      <td>0.543174</td>\n",
       "      <td>8.268491</td>\n",
       "      <td>0.032705</td>\n",
       "      <td>5.253026</td>\n",
       "    </tr>\n",
       "    <tr>\n",
       "      <th>19</th>\n",
       "      <td>39627473083696244</td>\n",
       "      <td>0.816042</td>\n",
       "      <td>0.706957</td>\n",
       "      <td>Lens</td>\n",
       "      <td>1.473784</td>\n",
       "      <td>1.439468</td>\n",
       "      <td>0.000356</td>\n",
       "      <td>inf</td>\n",
       "      <td>5.969010</td>\n",
       "      <td>0.920618</td>\n",
       "      <td>9089.459614</td>\n",
       "      <td>1.327136</td>\n",
       "      <td>9095.079640</td>\n",
       "      <td>0.889967</td>\n",
       "      <td>5.000000</td>\n",
       "      <td>0.819631</td>\n",
       "      <td>4.376356</td>\n",
       "      <td>0.033320</td>\n",
       "      <td>34.377458</td>\n",
       "    </tr>\n",
       "    <tr>\n",
       "      <th>23</th>\n",
       "      <td>39627474232937500</td>\n",
       "      <td>0.465468</td>\n",
       "      <td>0.843189</td>\n",
       "      <td>Lens</td>\n",
       "      <td>0.933846</td>\n",
       "      <td>0.968672</td>\n",
       "      <td>0.000510</td>\n",
       "      <td>0.000384</td>\n",
       "      <td>2.567888</td>\n",
       "      <td>0.695014</td>\n",
       "      <td>7335.272477</td>\n",
       "      <td>1.902010</td>\n",
       "      <td>7341.887355</td>\n",
       "      <td>1.231837</td>\n",
       "      <td>5.000000</td>\n",
       "      <td>1.459206</td>\n",
       "      <td>1.929141</td>\n",
       "      <td>0.033393</td>\n",
       "      <td>26.529447</td>\n",
       "    </tr>\n",
       "    <tr>\n",
       "      <th>26</th>\n",
       "      <td>39627485381398488</td>\n",
       "      <td>0.718688</td>\n",
       "      <td>0.911767</td>\n",
       "      <td>Lens</td>\n",
       "      <td>0.982986</td>\n",
       "      <td>1.001664</td>\n",
       "      <td>0.000544</td>\n",
       "      <td>inf</td>\n",
       "      <td>1.979882</td>\n",
       "      <td>0.615676</td>\n",
       "      <td>7458.200000</td>\n",
       "      <td>2.025270</td>\n",
       "      <td>7465.304489</td>\n",
       "      <td>1.306930</td>\n",
       "      <td>5.000000</td>\n",
       "      <td>1.686622</td>\n",
       "      <td>5.507985</td>\n",
       "      <td>0.033401</td>\n",
       "      <td>20.718810</td>\n",
       "    </tr>\n",
       "    <tr>\n",
       "      <th>...</th>\n",
       "      <td>...</td>\n",
       "      <td>...</td>\n",
       "      <td>...</td>\n",
       "      <td>...</td>\n",
       "      <td>...</td>\n",
       "      <td>...</td>\n",
       "      <td>...</td>\n",
       "      <td>...</td>\n",
       "      <td>...</td>\n",
       "      <td>...</td>\n",
       "      <td>...</td>\n",
       "      <td>...</td>\n",
       "      <td>...</td>\n",
       "      <td>...</td>\n",
       "      <td>...</td>\n",
       "      <td>...</td>\n",
       "      <td>...</td>\n",
       "      <td>...</td>\n",
       "      <td>...</td>\n",
       "    </tr>\n",
       "    <tr>\n",
       "      <th>2131</th>\n",
       "      <td>39636443152255817</td>\n",
       "      <td>1.261304</td>\n",
       "      <td>0.843733</td>\n",
       "      <td>Lens</td>\n",
       "      <td>1.486833</td>\n",
       "      <td>1.528873</td>\n",
       "      <td>0.000922</td>\n",
       "      <td>4.081335</td>\n",
       "      <td>0.476156</td>\n",
       "      <td>1.212754</td>\n",
       "      <td>9422.579462</td>\n",
       "      <td>3.436986</td>\n",
       "      <td>9424.200000</td>\n",
       "      <td>2.232844</td>\n",
       "      <td>1.082685</td>\n",
       "      <td>2.994799</td>\n",
       "      <td>3.498306</td>\n",
       "      <td>0.032762</td>\n",
       "      <td>8.481342</td>\n",
       "    </tr>\n",
       "    <tr>\n",
       "      <th>2132</th>\n",
       "      <td>39636471988095698</td>\n",
       "      <td>0.805879</td>\n",
       "      <td>0.750145</td>\n",
       "      <td>Lens</td>\n",
       "      <td>1.405834</td>\n",
       "      <td>1.426741</td>\n",
       "      <td>13.544145</td>\n",
       "      <td>inf</td>\n",
       "      <td>0.895537</td>\n",
       "      <td>109.257599</td>\n",
       "      <td>9042.035538</td>\n",
       "      <td>50465.483182</td>\n",
       "      <td>9042.133449</td>\n",
       "      <td>38817.556828</td>\n",
       "      <td>4.196432</td>\n",
       "      <td>511.991916</td>\n",
       "      <td>2.034517</td>\n",
       "      <td>0.033093</td>\n",
       "      <td>11.683705</td>\n",
       "    </tr>\n",
       "    <tr>\n",
       "      <th>2139</th>\n",
       "      <td>39636743464422728</td>\n",
       "      <td>0.070340</td>\n",
       "      <td>0.908181</td>\n",
       "      <td>Lens</td>\n",
       "      <td>0.891336</td>\n",
       "      <td>0.859742</td>\n",
       "      <td>0.000379</td>\n",
       "      <td>0.012760</td>\n",
       "      <td>1.580416</td>\n",
       "      <td>0.376630</td>\n",
       "      <td>6929.400000</td>\n",
       "      <td>1.413144</td>\n",
       "      <td>6938.204372</td>\n",
       "      <td>1.051282</td>\n",
       "      <td>4.249296</td>\n",
       "      <td>1.108419</td>\n",
       "      <td>3.247425</td>\n",
       "      <td>0.033329</td>\n",
       "      <td>17.553522</td>\n",
       "    </tr>\n",
       "    <tr>\n",
       "      <th>2140</th>\n",
       "      <td>39636757725054461</td>\n",
       "      <td>0.694936</td>\n",
       "      <td>0.899587</td>\n",
       "      <td>Lens</td>\n",
       "      <td>1.224758</td>\n",
       "      <td>1.276490</td>\n",
       "      <td>0.001290</td>\n",
       "      <td>inf</td>\n",
       "      <td>1.018059</td>\n",
       "      <td>0.743179</td>\n",
       "      <td>8482.200000</td>\n",
       "      <td>4.807665</td>\n",
       "      <td>8488.200001</td>\n",
       "      <td>3.120435</td>\n",
       "      <td>4.604150</td>\n",
       "      <td>3.618421</td>\n",
       "      <td>0.610038</td>\n",
       "      <td>0.033311</td>\n",
       "      <td>9.798441</td>\n",
       "    </tr>\n",
       "    <tr>\n",
       "      <th>2141</th>\n",
       "      <td>39636767510364632</td>\n",
       "      <td>0.638329</td>\n",
       "      <td>0.788405</td>\n",
       "      <td>Lens</td>\n",
       "      <td>1.188232</td>\n",
       "      <td>1.200977</td>\n",
       "      <td>0.001387</td>\n",
       "      <td>inf</td>\n",
       "      <td>2.500234</td>\n",
       "      <td>1.329690</td>\n",
       "      <td>8200.840305</td>\n",
       "      <td>5.168776</td>\n",
       "      <td>8205.042397</td>\n",
       "      <td>3.613508</td>\n",
       "      <td>4.484470</td>\n",
       "      <td>2.496978</td>\n",
       "      <td>4.084795</td>\n",
       "      <td>0.033244</td>\n",
       "      <td>24.623768</td>\n",
       "    </tr>\n",
       "  </tbody>\n",
       "</table>\n",
       "<p>288 rows × 19 columns</p>\n",
       "</div>"
      ],
      "text/plain": [
       "                   Name     z_qso     Score Classification  \\\n",
       "13    39627450753222356  0.386886  0.980855           Lens   \n",
       "15    39627461440308174  1.230204  0.854681           Lens   \n",
       "19    39627473083696244  0.816042  0.706957           Lens   \n",
       "23    39627474232937500  0.465468  0.843189           Lens   \n",
       "26    39627485381398488  0.718688  0.911767           Lens   \n",
       "...                 ...       ...       ...            ...   \n",
       "2131  39636443152255817  1.261304  0.843733           Lens   \n",
       "2132  39636471988095698  0.805879  0.750145           Lens   \n",
       "2139  39636743464422728  0.070340  0.908181           Lens   \n",
       "2140  39636757725054461  0.694936  0.899587           Lens   \n",
       "2141  39636767510364632  0.638329  0.788405           Lens   \n",
       "\n",
       "      Predicted Redshift  Fitted Redshift  Redshift Error  Best Chi-Squared  \\\n",
       "13              1.476184         1.450433        0.017687               inf   \n",
       "15              1.451261         1.550557        0.000189               inf   \n",
       "19              1.473784         1.439468        0.000356               inf   \n",
       "23              0.933846         0.968672        0.000510          0.000384   \n",
       "26              0.982986         1.001664        0.000544               inf   \n",
       "...                  ...              ...             ...               ...   \n",
       "2131            1.486833         1.528873        0.000922          4.081335   \n",
       "2132            1.405834         1.426741       13.544145               inf   \n",
       "2139            0.891336         0.859742        0.000379          0.012760   \n",
       "2140            1.224758         1.276490        0.001290               inf   \n",
       "2141            1.188232         1.200977        0.001387               inf   \n",
       "\n",
       "          Amp1    Err_Amp1        Mean1     Err_Mean1       Sigma1  \\\n",
       "13    1.091324    3.462497  9130.311866     65.903394  9132.704144   \n",
       "15    1.347146    0.865584  9503.374888      0.705938  9505.000001   \n",
       "19    5.969010    0.920618  9089.459614      1.327136  9095.079640   \n",
       "23    2.567888    0.695014  7335.272477      1.902010  7341.887355   \n",
       "26    1.979882    0.615676  7458.200000      2.025270  7465.304489   \n",
       "...        ...         ...          ...           ...          ...   \n",
       "2131  0.476156    1.212754  9422.579462      3.436986  9424.200000   \n",
       "2132  0.895537  109.257599  9042.035538  50465.483182  9042.133449   \n",
       "2139  1.580416    0.376630  6929.400000      1.413144  6938.204372   \n",
       "2140  1.018059    0.743179  8482.200000      4.807665  8488.200001   \n",
       "2141  2.500234    1.329690  8200.840305      5.168776  8205.042397   \n",
       "\n",
       "        Err_Sigma1     Mean2   Err_Mean2      Cont  Err_Cont        SNR  \n",
       "13       49.393613  4.732009   15.242887  1.126327  0.033228  13.065966  \n",
       "15        0.528549  0.775127    0.543174  8.268491  0.032705   5.253026  \n",
       "19        0.889967  5.000000    0.819631  4.376356  0.033320  34.377458  \n",
       "23        1.231837  5.000000    1.459206  1.929141  0.033393  26.529447  \n",
       "26        1.306930  5.000000    1.686622  5.507985  0.033401  20.718810  \n",
       "...            ...       ...         ...       ...       ...        ...  \n",
       "2131      2.232844  1.082685    2.994799  3.498306  0.032762   8.481342  \n",
       "2132  38817.556828  4.196432  511.991916  2.034517  0.033093  11.683705  \n",
       "2139      1.051282  4.249296    1.108419  3.247425  0.033329  17.553522  \n",
       "2140      3.120435  4.604150    3.618421  0.610038  0.033311   9.798441  \n",
       "2141      3.613508  4.484470    2.496978  4.084795  0.033244  24.623768  \n",
       "\n",
       "[288 rows x 19 columns]"
      ]
     },
     "execution_count": 9,
     "metadata": {},
     "output_type": "execute_result"
    }
   ],
   "source": [
    "results_filtered"
   ]
  },
  {
   "cell_type": "code",
   "execution_count": 10,
   "id": "f2d7e7c3-1231-4fd3-848b-57c92fc883dd",
   "metadata": {
    "tags": []
   },
   "outputs": [
    {
     "name": "stderr",
     "output_type": "stream",
     "text": [
      "/tmp/ipykernel_1790150/621321326.py:8: SettingWithCopyWarning: \n",
      "A value is trying to be set on a copy of a slice from a DataFrame.\n",
      "Try using .loc[row_indexer,col_indexer] = value instead\n",
      "\n",
      "See the caveats in the documentation: https://pandas.pydata.org/pandas-docs/stable/user_guide/indexing.html#returning-a-view-versus-a-copy\n",
      "  results_filtered['Link'] = link_to[:len(results_filtered)]\n"
     ]
    }
   ],
   "source": [
    "link_to = []\n",
    "\n",
    "for name in results_filtered['Name']:\n",
    "    desi_link = f'https://www.legacysurvey.org/viewer-desi/desi-spectrum/dr1/targetid{name}'\n",
    "    link_to.append(desi_link) \n",
    "\n",
    "# Ensure the length of link_to matches the length of filtered_results\n",
    "results_filtered['Link'] = link_to[:len(results_filtered)]\n",
    "\n",
    "# Export to CSV with the new column\n",
    "results_filtered.to_csv('full_filtered_results_phase1.csv', index=False)"
   ]
  },
  {
   "cell_type": "code",
   "execution_count": 11,
   "id": "7d3d1499-2388-4fab-bd0c-483d33cd3b77",
   "metadata": {
    "tags": []
   },
   "outputs": [
    {
     "data": {
      "text/plain": [
       "Index([  13,   15,   19,   23,   26,   28,   38,   43,   48,   57,\n",
       "       ...\n",
       "       2089, 2101, 2106, 2122, 2126, 2131, 2132, 2139, 2140, 2141],\n",
       "      dtype='int64', length=288)"
      ]
     },
     "execution_count": 11,
     "metadata": {},
     "output_type": "execute_result"
    }
   ],
   "source": [
    "filtered_indices = results_filtered.index\n",
    "filtered_indices"
   ]
  },
  {
   "cell_type": "code",
   "execution_count": 11,
   "id": "440f6f4c-46c7-4c3e-b186-5803893d11e4",
   "metadata": {},
   "outputs": [],
   "source": [
    "## PNG\n",
    "## LINES FROM SDSS FILE shaded regions\n",
    "## test on MEyers object \n",
    "## generate subplot for all \n",
    "## grade on ABC (3 buttons tkinter saving output results)\n",
    "# Chatgpt?"
   ]
  },
  {
   "cell_type": "code",
   "execution_count": 50,
   "id": "0f65d9cd-5dd6-430d-a0cd-c633b1e090d8",
   "metadata": {
    "tags": []
   },
   "outputs": [],
   "source": [
    "from Lens_Search import QSOFluxProcessor\n",
    "wave = np.load('wave.npy', allow_pickle=True)\n",
    "\n",
    "for i in range(len(filtered_indices)):\n",
    "    QSOFluxProcessor.plot_gaussian_fit_with_subplots(\n",
    "        flux[filtered_indices[i]], \n",
    "        wave, \n",
    "        results_filtered['z_qso'].iloc[i], \n",
    "        results_filtered['Fitted Redshift'].iloc[i], \n",
    "        results_filtered['Name'].iloc[i], \n",
    "        results_filtered['SNR'].iloc[i], \n",
    "        save_path=f\"Pictures2/{results_filtered['Name'].iloc[i]}.png\", \n",
    "        plot_qso_lines=True, \n",
    "        show_plot=False\n",
    "    )\n"
   ]
  },
  {
   "cell_type": "code",
   "execution_count": 25,
   "id": "38c12aae-a789-4621-9b1d-7b9acd5d9bd7",
   "metadata": {},
   "outputs": [
    {
     "data": {
      "image/png": "[encoded data removed]",
      "text/plain": [
       "<Figure size 2500x300 with 2 Axes>"
      ]
     },
     "metadata": {},
     "output_type": "display_data"
    }
   ],
   "source": [
    "wave = np.load('wave.npy', allow_pickle=True)\n",
    "ij = 296\n",
    "QSOFluxProcessor.plot_gaussian_fit_with_subplots(\n",
    "    flux[ij], \n",
    "    wave, \n",
    "    Z_QSO[ij], \n",
    "    results['Fitted Redshift'][ij], \n",
    "    'J625154.00-054922.80', \n",
    "    results['SNR'][ij], \n",
    "    noise[ij],\n",
    "    skyline_mask = False,\n",
    "    save_path=None, \n",
    "    plot_qso_lines=True, \n",
    "    show_plot=True\n",
    ")\n"
   ]
  },
  {
   "cell_type": "code",
   "execution_count": null,
   "id": "b6e0d4e1-0b1c-4647-a63a-6589855f8251",
   "metadata": {},
   "outputs": [],
   "source": [
    "link_to = []\n",
    "\n",
    "for name in results['Name']:\n",
    "    desi_link = f'https://www.legacysurvey.org/viewer-desi/desi-spectrum/dr1/targetid{name}'\n",
    "    link_to.append(desi_link) \n",
    "\n",
    "# Ensure the length of link_to matches the length of filtered_results\n",
    "results['Link'] = link_to[:len(results)]\n",
    "\n",
    "# Export to CSV with the new column\n",
    "results.to_csv('full_filtered_results.csv', index=False)\n"
   ]
  }
 ],
 "metadata": {
  "kernelspec": {
   "display_name": "tensorflow-2.9.0",
   "language": "python",
   "name": "tensorflow-2.9.0"
  },
  "language_info": {
   "codemirror_mode": {
    "name": "ipython",
    "version": 3
   },
   "file_extension": ".py",
   "mimetype": "text/x-python",
   "name": "python",
   "nbconvert_exporter": "python",
   "pygments_lexer": "ipython3",
   "version": "3.9.19"
  }
 },
 "nbformat": 4,
 "nbformat_minor": 5
}
